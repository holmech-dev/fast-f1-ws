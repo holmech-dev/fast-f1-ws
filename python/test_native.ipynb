{
 "cells": [
  {
   "cell_type": "code",
   "execution_count": 7,
   "id": "c62e4a75-f76b-4c72-bccf-a3c75fb77b04",
   "metadata": {},
   "outputs": [],
   "source": [
    "import numpy as np\n",
    "import pandas as pd\n",
    "import open3d as o3d\n",
    "import os"
   ]
  },
  {
   "cell_type": "code",
   "execution_count": 8,
   "id": "6340edf1-8e2c-41b6-9f57-34493f4c509d",
   "metadata": {},
   "outputs": [
    {
     "name": "stdout",
     "output_type": "stream",
     "text": [
      "/home/holmec/code/fast-f1/base-workspace/fast-f1-ws/0_trackFiles/AUS.obj\n",
      "\u001b[1;33m[Open3D WARNING] Unable to load file /home/holmec/code/fast-f1/base-workspace/fast-f1-ws/0_trackFiles/AUS.obj with ASSIMP: Unable to open file \"/home/holmec/code/fast-f1/base-workspace/fast-f1-ws/0_trackFiles/AUS.obj\".\u001b[0;m\n"
     ]
    }
   ],
   "source": [
    "#import open3d as o3d\n",
    "#import numpy as np\n",
    "#import pandas as pd\n",
    "\n",
    "file = os.path.join(os.getcwd(), \"0_trackFiles/AUS.obj\")\n",
    "print(file)\n",
    "\n",
    "# Load the track model\n",
    "mesh = o3d.io.read_triangle_mesh(file)\n",
    "#mesh = o3d.io.read_triangle_mesh(\"track_model.obj\")\n",
    "\n",
    "# Convert to a point cloud (sampled from mesh)\n",
    "#pcd = mesh.sample_points_uniformly(number_of_points=5000)\n",
    "\n",
    "# Get X, Y, Z coordinates\n",
    "#points = np.asarray(pcd.points)\n",
    "\n",
    "# Save to CSV\n",
    "#df = pd.DataFrame(points, columns=[\"X\", \"Y\", \"Z\"])\n",
    "#df.to_csv(\"track_boundaries.csv\", index=False)\n",
    "\n",
    "#print(\"Track boundaries extracted and saved!\")"
   ]
  },
  {
   "cell_type": "code",
   "execution_count": 10,
   "id": "6e282fbc-31df-4882-8e02-678cd6b6658c",
   "metadata": {},
   "outputs": [
    {
     "name": "stdout",
     "output_type": "stream",
     "text": [
      "/ws\n",
      "/ws/test.ipynb\n",
      "/ws/0_trackFiles/AUS.obj\n"
     ]
    }
   ],
   "source": [
    "import os\n",
    "print(os.getcwd())\n",
    "notebook_path = os.path.abspath(\"test.ipynb\")\n",
    "print(notebook_path)\n",
    "\n",
    "file = os.path.join(os.getcwd(), \"0_trackFiles/AUS.obj\")\n",
    "print(file)"
   ]
  },
  {
   "cell_type": "code",
   "execution_count": null,
   "id": "42ec9691-7851-4596-8c48-f235464404ba",
   "metadata": {},
   "outputs": [],
   "source": []
  }
 ],
 "metadata": {
  "kernelspec": {
   "display_name": "Python 3",
   "language": "python",
   "name": "python3"
  },
  "language_info": {
   "codemirror_mode": {
    "name": "ipython",
    "version": 3
   },
   "file_extension": ".py",
   "mimetype": "text/x-python",
   "name": "python",
   "nbconvert_exporter": "python",
   "pygments_lexer": "ipython3",
   "version": "3.12.3"
  }
 },
 "nbformat": 4,
 "nbformat_minor": 5
}
